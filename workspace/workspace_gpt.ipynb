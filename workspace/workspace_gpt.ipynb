{
 "cells": [
  {
   "cell_type": "code",
   "execution_count": null,
   "id": "bfdd2e17",
   "metadata": {},
   "outputs": [],
   "source": [
    "from call_gpt import get_gpt_response\n",
    "from generate_text_images import generate_image\n",
    "from io_files import display_image"
   ]
  },
  {
   "cell_type": "markdown",
   "id": "36e0f0cd",
   "metadata": {},
   "source": [
    "# GPT4"
   ]
  },
  {
   "cell_type": "code",
   "execution_count": null,
   "id": "8946f33f",
   "metadata": {},
   "outputs": [],
   "source": [
    "prompt = \"Generate Python code to sort a list alphabetically. Output only the code, without any preamble like 'Below is a simplo Python code...'\""
   ]
  },
  {
   "cell_type": "code",
   "execution_count": null,
   "id": "cee5678d",
   "metadata": {},
   "outputs": [],
   "source": [
    "get_gpt_response(prompt)"
   ]
  },
  {
   "cell_type": "markdown",
   "id": "dc80ca64",
   "metadata": {},
   "source": [
    "# Dall-E"
   ]
  },
  {
   "cell_type": "code",
   "execution_count": null,
   "id": "e903bf39",
   "metadata": {},
   "outputs": [],
   "source": [
    "prompt = \"In the center of a long table, a man with shoulder-length hair, softly parted in the middle, and a trim beard turns slightly towards the viewer, though his face appears calm and tranquil amid the animated expressions of the twelve men surrounding him. Clad in a red tunic and blue robe, this central figure reaches towards bread and wine on the table while the men on either side of him react with differing degrees of surprise, curiosity, and consternation. Some of these men gesture dramatically, while others converse in small groups; a few gaze directly at the central figure, riveted by his calm demeanor. The table, laden with plates and glasses, is set against a mural-adorned wall under semi-circular arches that reveal a tranquil blue sky beyond.\""
   ]
  },
  {
   "cell_type": "code",
   "execution_count": null,
   "id": "d6a6c3b3",
   "metadata": {},
   "outputs": [],
   "source": [
    "png_file = generate_image(prompt, size=\"256x256\", output_format=\"png\", output_dir=\"tmp\", verbose=False)"
   ]
  },
  {
   "cell_type": "code",
   "execution_count": null,
   "id": "79831fc1",
   "metadata": {},
   "outputs": [],
   "source": [
    "display_image(png_file)"
   ]
  }
 ],
 "metadata": {
  "kernelspec": {
   "display_name": "Python 3 (ipykernel)",
   "language": "python",
   "name": "python3"
  },
  "language_info": {
   "codemirror_mode": {
    "name": "ipython",
    "version": 3
   },
   "file_extension": ".py",
   "mimetype": "text/x-python",
   "name": "python",
   "nbconvert_exporter": "python",
   "pygments_lexer": "ipython3",
   "version": "3.11.4"
  }
 },
 "nbformat": 4,
 "nbformat_minor": 5
}
