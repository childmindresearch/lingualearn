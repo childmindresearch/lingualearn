{
 "cells": [
  {
   "cell_type": "markdown",
   "id": "3c459776",
   "metadata": {},
   "source": [
    "# Transcribe and summarize\n",
    "\n",
    "Use openAI to transcribe and summarize audio files."
   ]
  },
  {
   "cell_type": "code",
   "execution_count": 2,
   "id": "d815f191",
   "metadata": {},
   "outputs": [],
   "source": [
    "import os\n",
    "import openai\n",
    "client = openai.OpenAI(api_key=os.environ.get(\"OPENAI_API_KEY\"),)"
   ]
  },
  {
   "cell_type": "markdown",
   "id": "aab88c2d",
   "metadata": {},
   "source": [
    "## Input audio files\n",
    "\n",
    "ffmpeg -i audio/2021-excerpt.m4a -c:v libx264 -tune zerolatency -preset ultrafast -crf 50 -c:a aac -b:a 10k audio-processed/2021-excerpt.m4a"
   ]
  },
  {
   "cell_type": "code",
   "execution_count": 9,
   "id": "d91338db",
   "metadata": {},
   "outputs": [],
   "source": [
    "# Set the directory path you want to search in\n",
    "#directory_path = '/Users/arno.klein/Documents/Steinberg-TomInsel-sessions/audio-excerpts'\n",
    "audio_path = '/Users/arno.klein/Documents/Giants-videos/audio/split/processed'\n",
    "combined_transcripts_path = '/Users/arno.klein/Documents/Giants-videos/audio/split/processed/transcripts_combined'\n",
    "\n",
    "# List all file paths to files ending with '.m4a'\n",
    "audio_append = '.m4a'\n",
    "audio_file_paths = [os.path.join(audio_path, file) for file in os.listdir(audio_path) if file.endswith(audio_append)]"
   ]
  },
  {
   "cell_type": "markdown",
   "id": "3ee8e385",
   "metadata": {},
   "source": [
    "## Output transcript and summary files"
   ]
  },
  {
   "cell_type": "code",
   "execution_count": 5,
   "id": "c9164a29",
   "metadata": {},
   "outputs": [],
   "source": [
    "# Output transcript and summary file paths\n",
    "manually_combine_transcripts = True\n",
    "transcript_file_paths = [file + '_transcript.txt' for file in audio_file_paths]\n",
    "summary_file_paths = [file + '_summary.txt' for file in transcript_file_paths]"
   ]
  },
  {
   "cell_type": "markdown",
   "id": "74d5c5ca",
   "metadata": {},
   "source": [
    "## Transcribe and summarize functions"
   ]
  },
  {
   "cell_type": "code",
   "execution_count": 6,
   "id": "4f2a1526",
   "metadata": {},
   "outputs": [],
   "source": [
    "def transcribe(audio_file_path):\n",
    "\n",
    "    audio_file = open(audio_file_path, \"rb\")\n",
    "    transcript = client.audio.transcriptions.create(\n",
    "      model=\"whisper-1\", \n",
    "      file=audio_file, \n",
    "      response_format=\"text\"\n",
    "    )\n",
    "    \n",
    "    return transcript"
   ]
  },
  {
   "cell_type": "code",
   "execution_count": 7,
   "id": "bdd27a29",
   "metadata": {},
   "outputs": [],
   "source": [
    "def summarize(transcript):\n",
    "    system_prompt = \"\"\"Please provide a clear summary of the provided transcript, understandable for someone with a high-school education. \\n\\nTranscript:\"\"\"\n",
    "    summary = client.chat.completions.create(\n",
    "        model=\"gpt-4-1106-preview\",\n",
    "        messages=[\n",
    "            {\"role\":\"system\",\"content\": system_prompt},\n",
    "            {\"role\":\"user\",\"content\": transcript}]\n",
    "    )\n",
    "    \n",
    "    return summary.choices[0].message.content"
   ]
  },
  {
   "cell_type": "markdown",
   "id": "6406eade",
   "metadata": {},
   "source": [
    "## Loop through, transcribe, and summarize audio files"
   ]
  },
  {
   "cell_type": "code",
   "execution_count": 8,
   "id": "c643b9a0",
   "metadata": {},
   "outputs": [
    {
     "name": "stdout",
     "output_type": "stream",
     "text": [
      "Audio file: /Users/arno.klein/Documents/Giants-videos/audio/split/processed/2022-2-processed.m4a\n",
      "Transcript written to /Users/arno.klein/Documents/Giants-videos/audio/split/processed/2022-2-processed.m4a_transcript.txt\n",
      "Audio file: /Users/arno.klein/Documents/Giants-videos/audio/split/processed/2020-3-processed.m4a\n",
      "Transcript written to /Users/arno.klein/Documents/Giants-videos/audio/split/processed/2020-3-processed.m4a_transcript.txt\n",
      "Audio file: /Users/arno.klein/Documents/Giants-videos/audio/split/processed/2022-1-processed.m4a\n",
      "Transcript written to /Users/arno.klein/Documents/Giants-videos/audio/split/processed/2022-1-processed.m4a_transcript.txt\n",
      "Audio file: /Users/arno.klein/Documents/Giants-videos/audio/split/processed/2023-1-processed.m4a\n",
      "Transcript written to /Users/arno.klein/Documents/Giants-videos/audio/split/processed/2023-1-processed.m4a_transcript.txt\n",
      "Audio file: /Users/arno.klein/Documents/Giants-videos/audio/split/processed/2023-2-processed.m4a\n",
      "Transcript written to /Users/arno.klein/Documents/Giants-videos/audio/split/processed/2023-2-processed.m4a_transcript.txt\n",
      "Audio file: /Users/arno.klein/Documents/Giants-videos/audio/split/processed/2023-roundtable-2-processed.m4a\n",
      "Transcript written to /Users/arno.klein/Documents/Giants-videos/audio/split/processed/2023-roundtable-2-processed.m4a_transcript.txt\n",
      "Audio file: /Users/arno.klein/Documents/Giants-videos/audio/split/processed/2021-1-processed.m4a\n",
      "Transcript written to /Users/arno.klein/Documents/Giants-videos/audio/split/processed/2021-1-processed.m4a_transcript.txt\n",
      "Audio file: /Users/arno.klein/Documents/Giants-videos/audio/split/processed/2021-2-processed.m4a\n",
      "Transcript written to /Users/arno.klein/Documents/Giants-videos/audio/split/processed/2021-2-processed.m4a_transcript.txt\n",
      "Audio file: /Users/arno.klein/Documents/Giants-videos/audio/split/processed/2023-roundtable-1-processed.m4a\n",
      "Transcript written to /Users/arno.klein/Documents/Giants-videos/audio/split/processed/2023-roundtable-1-processed.m4a_transcript.txt\n",
      "Audio file: /Users/arno.klein/Documents/Giants-videos/audio/split/processed/2020-2-processed.m4a\n",
      "Transcript written to /Users/arno.klein/Documents/Giants-videos/audio/split/processed/2020-2-processed.m4a_transcript.txt\n",
      "Audio file: /Users/arno.klein/Documents/Giants-videos/audio/split/processed/2022-roundtable-1-processed.m4a\n",
      "Transcript written to /Users/arno.klein/Documents/Giants-videos/audio/split/processed/2022-roundtable-1-processed.m4a_transcript.txt\n",
      "Audio file: /Users/arno.klein/Documents/Giants-videos/audio/split/processed/2022-roundtable-2-processed.m4a\n",
      "Transcript written to /Users/arno.klein/Documents/Giants-videos/audio/split/processed/2022-roundtable-2-processed.m4a_transcript.txt\n",
      "Audio file: /Users/arno.klein/Documents/Giants-videos/audio/split/processed/2020-1-processed.m4a\n",
      "Transcript written to /Users/arno.klein/Documents/Giants-videos/audio/split/processed/2020-1-processed.m4a_transcript.txt\n"
     ]
    }
   ],
   "source": [
    "for ifile, audio_file_path in enumerate(audio_file_paths):\n",
    "    print('Audio file: {0}'.format(audio_file_path))\n",
    "\n",
    "    transcript = transcribe(audio_file_path)\n",
    "    with open(transcript_file_paths[ifile], \"w\") as file_buffer:\n",
    "        file_buffer.write(transcript)\n",
    "    print('Transcript written to {0}'.format(transcript_file_paths[ifile]))\n",
    "    \n",
    "    if not manually_combine_transcripts:\n",
    "        summary = summarize(transcript)\n",
    "        with open(summary_file_paths[ifile], \"w\") as file_buffer:\n",
    "            file_buffer.write(summary)\n",
    "        print('Summary written to {0}'.format(summary_file_paths[ifile]))"
   ]
  },
  {
   "cell_type": "code",
   "execution_count": 10,
   "id": "f5740e54",
   "metadata": {},
   "outputs": [
    {
     "name": "stdout",
     "output_type": "stream",
     "text": [
      "Combined transcript file: /Users/arno.klein/Documents/Giants-videos/audio/split/processed/transcripts_combined/2023_roundtable_transcript.txt\n",
      "Summary written to /Users/arno.klein/Documents/Giants-videos/audio/split/processed/transcripts_combined/2023_roundtable_transcript.txt_summary.txt\n",
      "Combined transcript file: /Users/arno.klein/Documents/Giants-videos/audio/split/processed/transcripts_combined/2021_transcript.txt\n",
      "Summary written to /Users/arno.klein/Documents/Giants-videos/audio/split/processed/transcripts_combined/2021_transcript.txt_summary.txt\n",
      "Combined transcript file: /Users/arno.klein/Documents/Giants-videos/audio/split/processed/transcripts_combined/2020_transcript.txt\n",
      "Summary written to /Users/arno.klein/Documents/Giants-videos/audio/split/processed/transcripts_combined/2020_transcript.txt_summary.txt\n",
      "Combined transcript file: /Users/arno.klein/Documents/Giants-videos/audio/split/processed/transcripts_combined/2022_transcript.txt\n",
      "Summary written to /Users/arno.klein/Documents/Giants-videos/audio/split/processed/transcripts_combined/2022_transcript.txt_summary.txt\n",
      "Combined transcript file: /Users/arno.klein/Documents/Giants-videos/audio/split/processed/transcripts_combined/2022_roundtable_transcript.txt\n",
      "Summary written to /Users/arno.klein/Documents/Giants-videos/audio/split/processed/transcripts_combined/2022_roundtable_transcript.txt_summary.txt\n",
      "Combined transcript file: /Users/arno.klein/Documents/Giants-videos/audio/split/processed/transcripts_combined/2023_transcript.txt\n",
      "Summary written to /Users/arno.klein/Documents/Giants-videos/audio/split/processed/transcripts_combined/2023_transcript.txt_summary.txt\n"
     ]
    }
   ],
   "source": [
    "if manually_combine_transcripts:\n",
    "\n",
    "    combined_transcript_file_paths = [os.path.join(combined_transcripts_path, file) for file in os.listdir(combined_transcripts_path) if file.endswith(\".txt\")]\n",
    "    summary_file_paths = [file + '_summary.txt' for file in combined_transcript_file_paths]\n",
    "\n",
    "    for ifile, combined_transcript_file_path in enumerate(combined_transcript_file_paths):\n",
    "        print('Combined transcript file: {0}'.format(combined_transcript_file_path))\n",
    "\n",
    "        with open(combined_transcript_file_path) as f:\n",
    "            combined_transcript = f.read()\n",
    "    \n",
    "        summary = summarize(combined_transcript)\n",
    "        with open(summary_file_paths[ifile], \"w\") as file_buffer:\n",
    "            file_buffer.write(summary)\n",
    "        print('Summary written to {0}'.format(summary_file_paths[ifile]))"
   ]
  },
  {
   "cell_type": "code",
   "execution_count": null,
   "id": "49996ce8",
   "metadata": {},
   "outputs": [],
   "source": []
  }
 ],
 "metadata": {
  "kernelspec": {
   "display_name": "Python 3 (ipykernel)",
   "language": "python",
   "name": "python3"
  },
  "language_info": {
   "codemirror_mode": {
    "name": "ipython",
    "version": 3
   },
   "file_extension": ".py",
   "mimetype": "text/x-python",
   "name": "python",
   "nbconvert_exporter": "python",
   "pygments_lexer": "ipython3",
   "version": "3.11.4"
  }
 },
 "nbformat": 4,
 "nbformat_minor": 5
}
